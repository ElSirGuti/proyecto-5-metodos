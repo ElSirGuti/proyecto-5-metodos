{
 "cells": [
  {
   "cell_type": "code",
   "execution_count": null,
   "id": "3eb43954-1526-4743-81ca-043a30c52eef",
   "metadata": {},
   "outputs": [],
   "source": [
    "using Pkg\n",
    "Pkg.add(\"HTTP\")\n",
    "Pkg.add(\"JSON\")\n"
   ]
  },
  {
   "cell_type": "code",
   "execution_count": null,
   "id": "fb028e63-9b4d-4f10-bed4-9b2602535bb9",
   "metadata": {},
   "outputs": [],
   "source": [
    "using HTTP\n",
    "using JSON\n",
    "\n",
    "# Aqui nuestra función que hace uso de la programacion dinamica :)\n",
    "function fibonacci_dinamica(n::Int)\n",
    "    if n < 0\n",
    "        error(\"El número debe ser mayor o igual a 0\")\n",
    "    elseif n == 0\n",
    "        return 0\n",
    "    elseif n == 1\n",
    "        return 1\n",
    "    else\n",
    "        tabla_fib = zeros(Int, n+1) # Definimos nuestra tabla llena de ceros para evitar hacer calculos de más y se vayan guardando los resultados intermedios\n",
    "        tabla_fib[1] = 0\n",
    "        tabla_fib[2] = 1\n",
    "\n",
    "        # Se calculan los números de la sucesión y se almacenan en la tabla\n",
    "        for i in 3:n+1\n",
    "            tabla_fib[i] = tabla_fib[i-1] + tabla_fib[i-2] # Cada número es la suma de los dos anteriores\n",
    "        end\n",
    "        \n",
    "        return tabla_fib[n+1] # Devolver el n-ésimo número de la sucesión de Fibonacci\n",
    "    end\n",
    "end\n",
    "\n",
    "# Función que maneja las solicitudes a la API\n",
    "function manejar_solicitud(req::HTTP.Request)\n",
    "    try\n",
    "        # Aqui calculamos los 10 primeros numeros de la sucesión\n",
    "        numeros_fibonacci = [fibonacci_dinamica(i) for i in 0:9]\n",
    "        # Damos la respuesta en formato JSON\n",
    "        respuesta = JSON.json(numeros_fibonacci)\n",
    "        return HTTP.Response(200, respuesta) # Si el servidor colabora debe retornar el array con la sucesión\n",
    "    catch e\n",
    "        return HTTP.Response(500, \"Error del servidor: $e\") # En dado caso que el servidor no colabore D:\n",
    "    end\n",
    "end\n",
    "\n",
    "# Inicia el servidor en el puerto 8080\n",
    "HTTP.serve(manejar_solicitud, \"0.0.0.0\", 8080)\n"
   ]
  },
  {
   "cell_type": "code",
   "execution_count": null,
   "id": "ab2e63c4-71f9-4a83-8a34-cac96b31b88f",
   "metadata": {},
   "outputs": [],
   "source": [
    "# Agradecimientos a Hayley Williams por acompañarme cantando mientras programaba <3"
   ]
  }
 ],
 "metadata": {
  "kernelspec": {
   "display_name": "Julia 1.10.4",
   "language": "julia",
   "name": "julia-1.10"
  },
  "language_info": {
   "file_extension": ".jl",
   "mimetype": "application/julia",
   "name": "julia",
   "version": "1.10.4"
  }
 },
 "nbformat": 4,
 "nbformat_minor": 5
}
